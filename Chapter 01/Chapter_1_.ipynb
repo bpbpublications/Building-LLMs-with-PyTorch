{
  "nbformat": 4,
  "nbformat_minor": 0,
  "metadata": {
    "colab": {
      "provenance": []
    },
    "kernelspec": {
      "name": "python3",
      "display_name": "Python 3"
    },
    "language_info": {
      "name": "python"
    }
  },
  "cells": [
    {
      "cell_type": "code",
      "execution_count": null,
      "metadata": {
        "id": "yXjR9L0UIvuk"
      },
      "outputs": [],
      "source": [
        "import matplotlib.pyplot as plt\n",
        "import matplotlib.patches as mpatches\n",
        "\n",
        "# Create a figure and axis\n",
        "fig, ax = plt.subplots(figsize=(8, 6))\n",
        "\n",
        "# Draw circles representing the relationships\n",
        "ml_circle = plt.Circle((0.5, 0.5), 0.4, color='lightblue', label='Machine Learning')\n",
        "dl_circle = plt.Circle((0.5, 0.5), 0.25, color='lightgreen', label='Deep Learning')\n",
        "gen_ai_circle = plt.Circle((0.5, 0.5), 0.15, color='lightcoral', label='Generative AI')\n",
        "\n",
        "# Add the circles to the plot\n",
        "ax.add_patch(ml_circle)\n",
        "ax.add_patch(dl_circle)\n",
        "ax.add_patch(gen_ai_circle)\n",
        "\n",
        "# Add text labels for each circle\n",
        "ax.text(0.5, 0.9, 'Machine Learning', horizontalalignment='center', fontsize=12, color='black')\n",
        "ax.text(0.5, 0.62, 'Deep Learning', horizontalalignment='center', fontsize=12, color='black')\n",
        "ax.text(0.5, 0.47, 'Generative AI', horizontalalignment='center', fontsize=12, color='black')\n",
        "\n",
        "# Set limits and title\n",
        "ax.set_xlim(0, 1)\n",
        "ax.set_ylim(0, 1)\n",
        "ax.set_title(\"Relationship Between Machine Learning, Deep Learning, and Generative AI\")\n",
        "\n",
        "# Remove axes\n",
        "ax.set_xticks([])\n",
        "ax.set_yticks([])\n",
        "\n",
        "# Display the plot\n",
        "plt.show()\n"
      ]
    }
  ]
}