{
  "cells": [
    {
      "cell_type": "markdown",
      "metadata": {
        "id": "zte5HER1d0Eb"
      },
      "source": [
        "Example:\n",
        "\n",
        "Imagine wanting to create a simple linear layer. In PyTorch, this is as easy as:"
      ]
    },
    {
      "cell_type": "code",
      "execution_count": null,
      "metadata": {
        "id": "_n90bkz8ZkuD"
      },
      "outputs": [],
      "source": [
        "import torch.nn as nn\n",
        "\n",
        "linear_layer = nn.Linear(in_features=5, out_features=3)\n"
      ]
    },
    {
      "cell_type": "markdown",
      "metadata": {
        "id": "06zSpcnqhoVs"
      },
      "source": [
        "Step-by-step Model Creation\n",
        "a. Import Necessary Libraries\n",
        "\n",
        "Before defining the model, ensure you've imported the necessary PyTorch libraries."
      ]
    },
    {
      "cell_type": "code",
      "execution_count": null,
      "metadata": {
        "colab": {
          "background_save": true
        },
        "id": "n2z0SB9nd4-a"
      },
      "outputs": [],
      "source": [
        "import torch\n",
        "import torch.nn as nn\n"
      ]
    },
    {
      "cell_type": "markdown",
      "source": [
        "#Converting a Simple Model to TorchScript"
      ],
      "metadata": {
        "id": "OAdqVPPC8-DP"
      }
    },
    {
      "cell_type": "code",
      "source": [
        "import torch\n",
        "import torch.nn as nn\n",
        "\n",
        "# Define a simple model\n",
        "class SimpleModel(nn.Module):\n",
        "    def __init__(self):\n",
        "        super(SimpleModel, self).__init__()\n",
        "        self.fc1 = nn.Linear(10, 10)\n",
        "\n",
        "    def forward(self, x):\n",
        "        return self.fc1(x)\n",
        "\n",
        "# Instantiate the model and switch to evaluation mode\n",
        "model = SimpleModel()\n",
        "model.eval()\n",
        "\n",
        "# Convert the model to TorchScript using tracing\n",
        "example_input = torch.randn(1, 10)\n",
        "traced_script_module = torch.jit.trace(model, example_input)\n",
        "\n",
        "# Save the TorchScript model\n",
        "traced_script_module.save(\"simple_model.pt\")\n",
        "\n",
        "print(\"Model has been converted to TorchScript and saved as simple_model.pt\")\n"
      ],
      "metadata": {
        "id": "do9ZBkfj8_Pu"
      },
      "execution_count": null,
      "outputs": []
    }
  ],
  "metadata": {
    "colab": {
      "provenance": []
    },
    "kernelspec": {
      "display_name": "Python 3",
      "name": "python3"
    },
    "language_info": {
      "name": "python"
    }
  },
  "nbformat": 4,
  "nbformat_minor": 0
}